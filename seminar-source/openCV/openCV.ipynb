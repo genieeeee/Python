{
 "cells": [
  {
   "cell_type": "markdown",
   "metadata": {},
   "source": [
    "# Python Opencv 얼굴인식"
   ]
  },
  {
   "cell_type": "markdown",
   "metadata": {},
   "source": [
    "표준 데스크탑 환경 용 패키지 (Windows, macOS, 거의 모든 GNU / Linux 배포)\n",
    "\n",
    "pip install opencv-python #메인 모듈 만 필요한 경우 실행\n",
    "\n",
    "pip install opencv-contriv-python #기본 및 contrib 모듈이 모두 필요한 경우 실행"
   ]
  },
  {
   "cell_type": "markdown",
   "metadata": {},
   "source": [
    "# 1) 얼굴일식 및 메모장 실행"
   ]
  },
  {
   "cell_type": "code",
   "execution_count": 1,
   "metadata": {},
   "outputs": [],
   "source": [
    "import cv2\n",
    "import subprocess\n",
    "\n",
    "#얼굴 인식 캐스케이드 파일 읽는다\n",
    "detector = cv2.CascadeClassifier('haarcascade_frontalface_default.xml')\n",
    "\n",
    "#웹캠에서 영상을 읽어온다\n",
    "cap = cv2.VideoCapture(0)\n",
    " \n",
    "while (True):\n",
    "    # frame 별로 capture 한다\n",
    "    ret, img = cap.read()\n",
    "    gray = cv2.cvtColor(img, cv2.COLOR_BGR2GRAY)\n",
    "    faces = detector.detectMultiScale(gray, 1.3, 5)\n",
    "    \n",
    "    # 사용자 얼굴이 인식되었을 경우, 메모장 실행\n",
    "    #인식된 얼굴 갯수를 출력\n",
    "    if len(faces) == 1:\n",
    "        notepad = (\"C:\\\\Windows\\\\notepad.exe\")\n",
    "        # 바로 프로그램 실행\n",
    "        subprocess.call(notepad)\n",
    "        break\n",
    "        \n",
    "    # 인식된 얼굴에 사각형을 출력한다\n",
    "    for (x, y, w, h) in faces:\n",
    "        cv2.rectangle(img, (x, y), (x + w, y + h), (255, 0, 0), 2)\n",
    "    \n",
    "    #화면에 출력한다\n",
    "    cv2.imshow('frame', img)\n",
    "    if cv2.waitKey(1) & 0xFF == ord('q'):\n",
    "        break\n",
    "        \n",
    " \n",
    "cap.release()\n",
    "cv2.destroyAllWindows()"
   ]
  },
  {
   "cell_type": "markdown",
   "metadata": {},
   "source": [
    "# 2) 얼굴인식 및 이미지 캡쳐 후 이메일 전송"
   ]
  },
  {
   "cell_type": "code",
   "execution_count": 2,
   "metadata": {},
   "outputs": [],
   "source": [
    "import cv2\n",
    "import subprocess\n",
    "import smtplib\n",
    "from email.mime.text import MIMEText\n",
    "from email.mime.multipart import MIMEMultipart\n",
    "from email.mime.base import MIMEBase\n",
    "from email import encoders\n",
    "\n",
    "detector = cv2.CascadeClassifier('haarcascade_frontalface_default.xml')\n",
    "cap = cv2.VideoCapture(0)\n",
    " \n",
    "while (True):\n",
    "    ret, img = cap.read()\n",
    "    gray = cv2.cvtColor(img, cv2.COLOR_BGR2GRAY)\n",
    "    faces = detector.detectMultiScale(gray, 1.3, 5)\n",
    "       \n",
    "    if len(faces) == 1:\n",
    "        #capture\n",
    "        cv2.imwrite('C:\\\\Users\\\\yunjin\\\\Desktop\\\\python_source\\\\openCV\\\\img_capture.jpg', gray)\n",
    "        \n",
    "        # 지메일 아이디,비번 입력하기\n",
    "        email_user = 'test@naver.com'     #<ID> 본인 계정 아이디 입력\n",
    "        email_password = 'asdfa'          #<PASSWORD> 본인 계정 암호 입력\n",
    "        email_send = 'test@naver.com'     # <받는곳주소> 수신자 이메일 abc@abc.com 형태로 입력\n",
    "\n",
    "        # 제목 및 수,발신자 설정\n",
    "        subject = 'Warning!!!' \n",
    "\n",
    "        msg = MIMEMultipart()\n",
    "        msg['From'] = email_user\n",
    "        msg['To'] = email_send\n",
    "        msg['Subject'] = subject\n",
    "\n",
    "        # 본문 내용 입력\n",
    "        body = 'Please check the picture'\n",
    "        msg.attach(MIMEText(body,'plain'))\n",
    "\n",
    "        # 첨부파일 경로/이름 지정하기\n",
    "        filename = 'C:\\\\Users\\\\yunjin\\\\Desktop\\\\python_source\\\\openCV\\\\img_capture.jpg'  \n",
    "        attachment = open(filename,'rb')\n",
    "\n",
    "        part = MIMEBase('application','octet-stream')\n",
    "        part.set_payload((attachment).read())\n",
    "        encoders.encode_base64(part)\n",
    "        part.add_header('Content-Disposition',\"attachment; filename= \" + filename)\n",
    "        msg.attach(part)\n",
    "\n",
    "        text = msg.as_string()\n",
    "        server = smtplib.SMTP('smtp.naver.com',587)\n",
    "        server.starttls()\n",
    "        server.login(email_user,email_password)\n",
    "\n",
    "        server.sendmail(email_user,email_send,text)\n",
    "        server.quit()\n",
    "                \n",
    "        break;\n",
    "    \n",
    "    for (x, y, w, h) in faces:\n",
    "        cv2.rectangle(img, (x, y), (x + w, y + h), (255, 0, 0), 2)\n",
    " \n",
    "    cv2.imshow('frame', img)\n",
    "    if cv2.waitKey(1) & 0xFF == ord('q'):\n",
    "        break\n",
    "        \n",
    " \n",
    "cap.release()\n",
    "cv2.destroyAllWindows()"
   ]
  },
  {
   "cell_type": "code",
   "execution_count": null,
   "metadata": {},
   "outputs": [],
   "source": []
  }
 ],
 "metadata": {
  "kernelspec": {
   "display_name": "Python 3",
   "language": "python",
   "name": "python3"
  },
  "language_info": {
   "codemirror_mode": {
    "name": "ipython",
    "version": 3
   },
   "file_extension": ".py",
   "mimetype": "text/x-python",
   "name": "python",
   "nbconvert_exporter": "python",
   "pygments_lexer": "ipython3",
   "version": "3.7.3"
  }
 },
 "nbformat": 4,
 "nbformat_minor": 2
}
