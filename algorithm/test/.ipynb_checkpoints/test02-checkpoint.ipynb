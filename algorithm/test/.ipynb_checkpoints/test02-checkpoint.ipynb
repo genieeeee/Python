{
 "cells": [
  {
   "cell_type": "markdown",
   "id": "8940a581",
   "metadata": {},
   "source": [
    "# 코딩테스트 문제2번"
   ]
  },
  {
   "cell_type": "code",
   "execution_count": 80,
   "id": "b2711cf8",
   "metadata": {},
   "outputs": [],
   "source": [
    "def solution(v1, v2, a, b):  \n",
    "    '''        \n",
    "        @test question : a와 b 친구 맺어줄 a,b 친구를 동시에 아는 지인 구하기! \n",
    "        @test point : a와 b를 동시에 아는 지인 구하기, 지인은 친구의 수가 가장 적다.\n",
    "        @param v1: v1[] a의 친구들 list\n",
    "        @param v2: v1[] b의 친구들 list\n",
    "        @param a : b가 만나게 될 친구 0 ≤ a ≤ 1,000\n",
    "        @param b : a가 만나고 싶은 친구 0 ≤ b ≤ 1,000\n",
    "        return answer: answer 아는 지인 아이디, int형 \n",
    "    '''    \n",
    "        \n",
    "    # 변수 초기화 및 선언\n",
    "    answer = -2;\n",
    "    friends = [];    \n",
    "    a_friends=[];\n",
    "    b_friends=[];\n",
    "    sogaeting=[];\n",
    "    v1_len = len(v1);\n",
    "    v2_len = len(v2);\n",
    "    \n",
    "    # v1, v2 친구 맺기\n",
    "    for i in range(len(v1)): \n",
    "        friends.append([v1[i], v2[i]]);\n",
    "\n",
    "    # \n",
    "    for i in range(len(friends)):\n",
    "        # a를 아는 b의 지인 구하기\n",
    "        if friends[i][0] == a: a_friends.append(friends[i][1]);\n",
    "\n",
    "        # b를 아는 a의 지인 구하기\n",
    "        if friends[i][1] == b: b_friends.append(friends[i][0]);\n",
    "\n",
    "    a_friends_len = len(a_friends);\n",
    "    b_friends_len = len(b_friends);\n",
    "\n",
    "    # 해당 지인이 동일한지 파악\n",
    "    if a_friends_len > b_friends_len:\n",
    "        for i in range(a_friends_len):\n",
    "            for j in range(b_friends_len):\n",
    "                if a_friends[i] == b_friends[j]: sogaeting.append(a_friends[i])\n",
    "    else:\n",
    "        for i in range(b_friends_len):\n",
    "            for j in range(a_friends_len):\n",
    "                if b_friends[i] == a_friends[j]: sogaeting.append(b_friends[i])        \n",
    "\n",
    "    # 동일 친구가 있을 경우 ID값이 작은 친구를 뽑음\n",
    "    if len(sogaeting) > 0:\n",
    "        answer = sorted(a_friends)[0];\n",
    "    else:\n",
    "        answer = -1;\n",
    "        \n",
    "                \n",
    "    return answer"
   ]
  },
  {
   "cell_type": "code",
   "execution_count": 82,
   "id": "768605e6",
   "metadata": {},
   "outputs": [
    {
     "name": "stdout",
     "output_type": "stream",
     "text": [
      "1\n",
      "-1\n",
      "1000\n"
     ]
    }
   ],
   "source": [
    "print(solution([0, 0, 1, 2, 2], [1, 2, 3, 3, 4], 0, 3));\n",
    "print(solution([0, 0, 1, 2, 3], [1, 2, 3, 3, 4], 0, 4));\n",
    "print(solution([998,1000], [1000,999], 998, 999));"
   ]
  },
  {
   "cell_type": "code",
   "execution_count": 83,
   "id": "61fd5d0b",
   "metadata": {},
   "outputs": [],
   "source": [
    "#test case\n",
    "# print(solution([7,6,8,8,9,10],[10,10,6,9,7,7],8,10))"
   ]
  },
  {
   "cell_type": "code",
   "execution_count": null,
   "id": "af122f0b",
   "metadata": {},
   "outputs": [],
   "source": []
  }
 ],
 "metadata": {
  "kernelspec": {
   "display_name": "Python 3 (ipykernel)",
   "language": "python",
   "name": "python3"
  },
  "language_info": {
   "codemirror_mode": {
    "name": "ipython",
    "version": 3
   },
   "file_extension": ".py",
   "mimetype": "text/x-python",
   "name": "python",
   "nbconvert_exporter": "python",
   "pygments_lexer": "ipython3",
   "version": "3.9.6"
  }
 },
 "nbformat": 4,
 "nbformat_minor": 5
}
