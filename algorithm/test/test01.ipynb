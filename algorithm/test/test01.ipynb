{
 "cells": [
  {
   "cell_type": "markdown",
   "id": "8e1b55cd",
   "metadata": {},
   "source": [
    "# 코딩테스트 문제1번"
   ]
  },
  {
   "cell_type": "code",
   "execution_count": 3,
   "id": "3968da90",
   "metadata": {},
   "outputs": [
    {
     "name": "stdout",
     "output_type": "stream",
     "text": [
      "\n",
      "w = [3, 2, 4, 5, 6, 2, 4, 5] / result =   [0, 3, 4, 7]\n",
      "\n",
      "w = [3, 2, 4, 5, 6, 2, 4, 5] / result =   [3, 4, 11, 15]\n"
     ]
    }
   ],
   "source": [
    "import math\n",
    "\n",
    "def solution(w):\n",
    "    '''        \n",
    "        @test question : 토너먼트에서 4강 안에 들어갈 원소의 index 찾기\n",
    "        @test point : 4강 안에 들어온 원소 최조 배열의 index 알아내기!\n",
    "        @param w: w[] 토너먼트 list\n",
    "        return : answer[] 4강 안에 들어온 원소의 idex가 담긴 배열\n",
    "    '''    \n",
    "    \n",
    "    # 변수 초기화 및 선언\n",
    "    answer = [];     \n",
    "    error_msg='';\n",
    "    w_len = len(w)\n",
    "    \n",
    "    # w배열 길이의 제약조건\n",
    "    if ( (w_len >=4 and w_len <= 1024) and (w_len & (w_len-1) == 0) ):\n",
    "   \n",
    "        copy_w = [];\n",
    "        isContinue = True;\n",
    "        \n",
    "        # w배열의 index와 value값 [index,value]로 담아서 copy_w 2차배열 만들기\n",
    "        for w_idx, w_val in enumerate(w):\n",
    "            \n",
    "            # 원소값 제약조건\n",
    "            if w_val <1 or w_val >1000000: \n",
    "                isContinue = False;\n",
    "                break;\n",
    "            copy_w.append([w_idx,w_val]);\n",
    "        \n",
    "        if(isContinue):\n",
    "            while True:\n",
    "                for idx, val in enumerate(copy_w):\n",
    "                    \n",
    "                    # 토너먼트 경기\n",
    "                    remove_idx = idx if (copy_w[idx][1] < copy_w[(idx+1)][1]) else idx+1;\n",
    "                    del copy_w[remove_idx];\n",
    "                \n",
    "                # 4강일 때 토너먼트 break\n",
    "                if len(copy_w)<=4: break; \n",
    "            \n",
    "            # 4강 안에 들어온 원소의 idex, answer 배열에 담기\n",
    "            answer = sorted([copy_w[idx][0] for idx, val in enumerate(copy_w)])\n",
    "            \n",
    "        else:\n",
    "            error_msg += '1 ≤ w의 원소 ≤ 1,000,000\\n';\n",
    "                    \n",
    "    else:\n",
    "        error_msg += 'w의 길이는 ' + str(w_len) + '입니다\\n'\n",
    "        error_msg += '4 ≤ w의 길이 ≤ 1,024\\n';\n",
    "        error_msg += 'w의 길이는 2의 거듭제곱입니다. 즉, 4, 8, 16, 32, 64, …, 1024 중 하나입니다\\n';\n",
    "    \n",
    "    print(error_msg);\n",
    "        \n",
    "    return answer\n",
    "\n",
    "print('w = [3, 2, 4, 5, 6, 2, 4, 5] / result =  ', solution([3, 2, 4, 5, 6, 2, 4, 5]))\n",
    "print('w = [3, 2, 4, 5, 6, 2, 4, 5] / result =  ', solution([3, 2, 4, 5, 6, 2, 4, 5, 1, 2, 3, 4, 5, 6, 7, 8]))"
   ]
  },
  {
   "cell_type": "code",
   "execution_count": null,
   "id": "fba23c73",
   "metadata": {},
   "outputs": [],
   "source": [
    "# 2의 거듭제곱 구하는 방법 : math.log(len(w), 2).is_integer() #math.log(n,2) -> n이 음수일 때 ValueError 발생"
   ]
  },
  {
   "cell_type": "code",
   "execution_count": null,
   "id": "642d3cee",
   "metadata": {},
   "outputs": [],
   "source": [
    "# test case\n",
    "# print(solution([9,10,4,8,1,9,15,20,25,30,45,70,80,2,1, 2, 3, 4, 5, 6]))\n",
    "# print(solution([9,10,4]))\n",
    "# print(solution([3, 2, 10000000, 5, 6, 2, 4, 5]))\n",
    "# print(solution([9,10,4,8,1,9,15,20,25,30,45,70,80,2,1, 2, 3, 4, 5, 6, 7, 8,10,22,33,44,55,66,25,67,82,1]))"
   ]
  }
 ],
 "metadata": {
  "kernelspec": {
   "display_name": "Python 3 (ipykernel)",
   "language": "python",
   "name": "python3"
  },
  "language_info": {
   "codemirror_mode": {
    "name": "ipython",
    "version": 3
   },
   "file_extension": ".py",
   "mimetype": "text/x-python",
   "name": "python",
   "nbconvert_exporter": "python",
   "pygments_lexer": "ipython3",
   "version": "3.9.6"
  }
 },
 "nbformat": 4,
 "nbformat_minor": 5
}
